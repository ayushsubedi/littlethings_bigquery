{
 "cells": [
  {
   "cell_type": "code",
   "execution_count": 1,
   "metadata": {},
   "outputs": [],
   "source": [
    "import pandas as pd"
   ]
  },
  {
   "cell_type": "markdown",
   "metadata": {},
   "source": [
    "#### Dataset: stackoverflow\n",
    "#### Table: posts_questions"
   ]
  },
  {
   "cell_type": "markdown",
   "metadata": {},
   "source": [
    "### 4) Your first join\n",
    "Now that you have a query to select questions on any given topic (in this case, you chose \"bigquery\"), you can find the answers to those questions with a **JOIN**.  \n",
    "\n",
    "Write a query that returns the `id`, `body` and `owner_user_id` columns from the `posts_answers` table for answers to \"bigquery\"-related questions. \n",
    "- You should have one row in your results for each answer to a question that has \"bigquery\" in the tags.  \n",
    "- Remember you can get the tags for a question from the `tags` column in the `posts_questions` table.\n",
    "\n",
    "Here's a reminder of what a **JOIN** looked like in the tutorial:\n",
    "```\n",
    "query = \"\"\"\n",
    "        SELECT p.Name AS Pet_Name, o.Name AS Owner_Name\n",
    "        FROM `bigquery-public-data.pet_records.pets` as p\n",
    "        INNER JOIN `bigquery-public-data.pet_records.owners` as o \n",
    "            ON p.ID = o.Pet_ID\n",
    "        \"\"\"\n",
    "```\n",
    "\n",
    "It may be useful to scroll up and review the first several rows of the `posts_answers` and `posts_questions` tables.  "
   ]
  },
  {
   "cell_type": "code",
   "execution_count": 1,
   "metadata": {},
   "outputs": [
    {
     "name": "stdout",
     "output_type": "stream",
     "text": [
      "\n",
      "        SELECT a.id, a.body, a.owner_user_id\n",
      "        FROM `bigquery-public-data.stackoverflow.posts_questions` AS q \n",
      "        INNER JOIN `bigquery-public-data.stackoverflow.posts_answers` AS a\n",
      "            ON q.id = a.parent_id\n",
      "        WHERE q.tags LIKE '%bigquery%'\n",
      "        \n"
     ]
    }
   ],
   "source": [
    "query = \"\"\"\n",
    "        SELECT a.id, a.body, a.owner_user_id\n",
    "        FROM `bigquery-public-data.stackoverflow.posts_questions` AS q \n",
    "        INNER JOIN `bigquery-public-data.stackoverflow.posts_answers` AS a\n",
    "            ON q.id = a.parent_id\n",
    "        WHERE q.tags LIKE '%bigquery%'\n",
    "        \"\"\"\n",
    "print (query)"
   ]
  },
  {
   "cell_type": "markdown",
   "metadata": {},
   "source": [
    "### 5) Answer the question\n",
    "You have the merge you need. But you want a list of users who have answered many questions... which requires more work beyond your previous result.\n",
    "\n",
    "Write a new query that has a single row for each user who answered at least one question with a tag that includes the string \"bigquery\". Your results should have two columns:\n",
    "- `user_id` - contains the `owner_user_id` column from the `posts_answers` table\n",
    "- `number_of_answers` - contains the number of answers the user has written to \"bigquery\"-related questions"
   ]
  },
  {
   "cell_type": "code",
   "execution_count": 2,
   "metadata": {},
   "outputs": [
    {
     "name": "stdout",
     "output_type": "stream",
     "text": [
      "\n",
      "         SELECT a.owner_user_id AS user_id, COUNT(1) AS number_of_answers\n",
      "         FROM `bigquery-public-data.stackoverflow.posts_questions` AS q\n",
      "         INNER JOIN `bigquery-public-data.stackoverflow.posts_answers` AS a\n",
      "             ON q.id = a.parent_Id\n",
      "         WHERE q.tags LIKE '%bigquery%'\n",
      "         GROUP BY a.owner_user_id\n",
      "        \n"
     ]
    }
   ],
   "source": [
    "query = \"\"\"\n",
    "         SELECT a.owner_user_id AS user_id, COUNT(1) AS number_of_answers\n",
    "         FROM `bigquery-public-data.stackoverflow.posts_questions` AS q\n",
    "         INNER JOIN `bigquery-public-data.stackoverflow.posts_answers` AS a\n",
    "             ON q.id = a.parent_Id\n",
    "         WHERE q.tags LIKE '%bigquery%'\n",
    "         GROUP BY a.owner_user_id\n",
    "        \"\"\"\n",
    "print (query)"
   ]
  },
  {
   "cell_type": "code",
   "execution_count": null,
   "metadata": {},
   "outputs": [],
   "source": []
  }
 ],
 "metadata": {
  "kernelspec": {
   "display_name": "Python 3",
   "language": "python",
   "name": "python3"
  },
  "language_info": {
   "codemirror_mode": {
    "name": "ipython",
    "version": 3
   },
   "file_extension": ".py",
   "mimetype": "text/x-python",
   "name": "python",
   "nbconvert_exporter": "python",
   "pygments_lexer": "ipython3",
   "version": "3.7.3"
  }
 },
 "nbformat": 4,
 "nbformat_minor": 4
}
