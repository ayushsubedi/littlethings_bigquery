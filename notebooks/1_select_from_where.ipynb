{
 "cells": [
  {
   "cell_type": "code",
   "execution_count": 1,
   "metadata": {},
   "outputs": [],
   "source": [
    "import pandas as pd"
   ]
  },
  {
   "cell_type": "markdown",
   "metadata": {},
   "source": [
    "#### Dataset: openaq\n",
    "#### Table: global_air_quality"
   ]
  },
  {
   "cell_type": "markdown",
   "metadata": {},
   "source": [
    "Which countries have reported pollution levels in units of \"ppm\"? In the code cell below, set first_query to an SQL query that pulls the appropriate entries from the country column"
   ]
  },
  {
   "cell_type": "code",
   "execution_count": 4,
   "metadata": {},
   "outputs": [
    {
     "name": "stdout",
     "output_type": "stream",
     "text": [
      "\n",
      "    SELECT \n",
      "    from `bigquery-public-data.apenaq.global_air_quality`\n",
      "    where country = 'US'\n",
      "    \n"
     ]
    }
   ],
   "source": [
    "query = \"\"\"\n",
    "    SELECT \n",
    "    from `bigquery-public-data.apenaq.global_air_quality`\n",
    "    where country = 'US'\n",
    "    \"\"\"\n",
    "print (query)"
   ]
  },
  {
   "cell_type": "code",
   "execution_count": 5,
   "metadata": {},
   "outputs": [
    {
     "name": "stdout",
     "output_type": "stream",
     "text": [
      "\n",
      "    SELECT \n",
      "    from `bigquery-public-data.apenaq.global_air_quality`\n",
      "    where unit = 'ppm'\n",
      "    \n"
     ]
    }
   ],
   "source": [
    "query = \"\"\"\n",
    "    SELECT \n",
    "    from `bigquery-public-data.apenaq.global_air_quality`\n",
    "    where unit = 'ppm'\n",
    "    \"\"\"\n",
    "print (query)"
   ]
  },
  {
   "cell_type": "markdown",
   "metadata": {},
   "source": [
    "### Standara SQL"
   ]
  },
  {
   "cell_type": "markdown",
   "metadata": {},
   "source": [
    "```\n",
    "query_statement:\n",
    "    query_expr\n",
    "\n",
    "query_expr:\n",
    "    [ WITH with_query_name AS ( query_expr ) [, ...] ]\n",
    "    { select | ( query_expr ) | query_expr set_op query_expr }\n",
    "    [ ORDER BY expression [{ ASC | DESC }] [, ...] ]\n",
    "    [ LIMIT count [ OFFSET skip_rows ] ]\n",
    "\n",
    "select:\n",
    "    SELECT [ AS { STRUCT | VALUE } ] [{ ALL | DISTINCT }]\n",
    "        { [ expression. ]* [ EXCEPT ( column_name [, ...] ) ]\n",
    "            [ REPLACE ( expression [ AS ] column_name [, ...] ) ]\n",
    "        | expression [ [ AS ] alias ] } [, ...]\n",
    "    [ FROM from_item  [, ...] ]\n",
    "    [ WHERE bool_expression ]\n",
    "    [ GROUP BY { expression [, ...] | ROLLUP ( expression [, ...] ) } ]\n",
    "    [ HAVING bool_expression ]\n",
    "    [ WINDOW named_window_expression AS { named_window | ( [ window_definition ] ) } [, ...] ]\n",
    "\n",
    "set_op:\n",
    "    UNION { ALL | DISTINCT } | INTERSECT DISTINCT | EXCEPT DISTINCT\n",
    "\n",
    "from_item: {\n",
    "    table_name [ [ AS ] alias ] [ FOR SYSTEM_TIME AS OF timestamp_expression ]  |\n",
    "    join |\n",
    "    ( query_expr ) [ [ AS ] alias ] |\n",
    "    field_path |\n",
    "    { UNNEST( array_expression ) | UNNEST( array_path ) | array_path }\n",
    "        [ [ AS ] alias ] [ WITH OFFSET [ [ AS ] alias ] ] |\n",
    "    with_query_name [ [ AS ] alias ]\n",
    "}\n",
    "\n",
    "join:\n",
    "    from_item [ join_type ] JOIN from_item\n",
    "    [ { ON bool_expression | USING ( join_column [, ...] ) } ]\n",
    "\n",
    "join_type:\n",
    "    { INNER | CROSS | FULL [OUTER] | LEFT [OUTER] | RIGHT [OUTER] }\n",
    "\n",
    "\n",
    "\n",
    "```"
   ]
  },
  {
   "cell_type": "markdown",
   "metadata": {},
   "source": [
    "Notation rules\n",
    "\n",
    "- Square brackets \"[ ]\" indicate optional clauses.\n",
    "- Parentheses \"( )\" indicate literal parentheses.\n",
    "- The vertical bar \"|\" indicates a logical OR.\n",
    "- Curly braces \"{ }\" enclose a set of options.\n",
    "- A comma followed by an ellipsis within square brackets \"[, ... ]\" indicates that the preceding item can repeat in a comma-separated list."
   ]
  },
  {
   "cell_type": "markdown",
   "metadata": {},
   "source": [
    "---"
   ]
  },
  {
   "cell_type": "markdown",
   "metadata": {},
   "source": [
    "Which pollution levels were reported to be exactly 0?\n",
    "\n",
    "- Set zero_pollution_query to select all columns of the rows where the value column is 0.\n",
    "- Set zero_pollution_results to a pandas DataFrame containing the query results."
   ]
  },
  {
   "cell_type": "code",
   "execution_count": 7,
   "metadata": {},
   "outputs": [
    {
     "name": "stdout",
     "output_type": "stream",
     "text": [
      "\n",
      "    SELECT \n",
      "    from `bigquery-public-data.apenaq.global_air_quality`\n",
      "    where value = 0\n",
      "    \n"
     ]
    }
   ],
   "source": [
    "zero_pollution_query = \"\"\"\n",
    "    SELECT \n",
    "    from `bigquery-public-data.apenaq.global_air_quality`\n",
    "    where value = 0\n",
    "    \"\"\"\n",
    "print (zero_pollution_query)"
   ]
  },
  {
   "cell_type": "code",
   "execution_count": null,
   "metadata": {},
   "outputs": [],
   "source": [
    "## Not experimenting too much with querying for these simple queries to remain withing quota limitations."
   ]
  }
 ],
 "metadata": {
  "kernelspec": {
   "display_name": "Python 3",
   "language": "python",
   "name": "python3"
  },
  "language_info": {
   "codemirror_mode": {
    "name": "ipython",
    "version": 3
   },
   "file_extension": ".py",
   "mimetype": "text/x-python",
   "name": "python",
   "nbconvert_exporter": "python",
   "pygments_lexer": "ipython3",
   "version": "3.7.3"
  }
 },
 "nbformat": 4,
 "nbformat_minor": 4
}
