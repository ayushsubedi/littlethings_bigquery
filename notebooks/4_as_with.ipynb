{
 "cells": [
  {
   "cell_type": "code",
   "execution_count": 1,
   "metadata": {},
   "outputs": [],
   "source": [
    "import pandas as pd"
   ]
  },
  {
   "cell_type": "markdown",
   "metadata": {},
   "source": [
    "#### Dataset: chicago_taxi_trips\n",
    "#### Table: taxi_trips"
   ]
  },
  {
   "cell_type": "markdown",
   "metadata": {},
   "source": [
    "### 3) Determine when this data is from\n",
    "\n",
    "If the data is sufficiently old, we might be careful before assuming the data is still relevant to traffic patterns today. Write a query that counts the number of trips in each year.  \n",
    "\n",
    "Your results should have two columns:\n",
    "- `year` - the year of the trips\n",
    "- `num_trips` - the number of trips in that year\n",
    "\n",
    "Hints:\n",
    "- When using **GROUP BY** and **ORDER BY**, you should refer to the columns by the alias `year` that you set at the top of the **SELECT** query.\n",
    "- The SQL code to **SELECT** the year from `trip_start_timestamp` is <code>SELECT EXTRACT(YEAR FROM trip_start_timestamp)</code>\n",
    "- The **FROM** field can be a little tricky until you are used to it.  The format is:\n",
    "    1. A backick (the symbol \\`).\n",
    "    2. The project name. In this case it is `bigquery-public-data`.\n",
    "    3. A period.\n",
    "    4. The dataset name. In this case, it is `chicago_taxi_trips`.\n",
    "    5. A period.\n",
    "    6. The table name. You used this as your answer in **1) Find the data**.\n",
    "    7. A backtick (the symbol \\`)."
   ]
  },
  {
   "cell_type": "code",
   "execution_count": 1,
   "metadata": {},
   "outputs": [
    {
     "name": "stdout",
     "output_type": "stream",
     "text": [
      "\n",
      "    SELECT EXTRACT(YEAR FROM trip_start_timestamp) as year, COUNT(1) as num_trips\n",
      "    from `bigquery-public-data.chicago_taxi_trips.taxi_trips`\n",
      "    group by year\n",
      "    order by year DESC\n",
      "    \n"
     ]
    }
   ],
   "source": [
    "query = \"\"\"\n",
    "    SELECT EXTRACT(YEAR FROM trip_start_timestamp) as year, COUNT(1) as num_trips\n",
    "    from `bigquery-public-data.chicago_taxi_trips.taxi_trips`\n",
    "    group by year\n",
    "    order by year DESC\n",
    "    \"\"\"\n",
    "print (query)"
   ]
  },
  {
   "cell_type": "code",
   "execution_count": 3,
   "metadata": {},
   "outputs": [],
   "source": [
    "## This is fine too"
   ]
  },
  {
   "cell_type": "code",
   "execution_count": 2,
   "metadata": {},
   "outputs": [
    {
     "name": "stdout",
     "output_type": "stream",
     "text": [
      "\n",
      "    SELECT EXTRACT(YEAR FROM trip_start_timestamp) as year, COUNT(1) as num_trips\n",
      "    from `bigquery-public-data.chicago_taxi_trips.taxi_trips`\n",
      "    group by 1\n",
      "    order by 1 DESC\n",
      "    \n"
     ]
    }
   ],
   "source": [
    "query = \"\"\"\n",
    "    SELECT EXTRACT(YEAR FROM trip_start_timestamp) as year, COUNT(1) as num_trips\n",
    "    from `bigquery-public-data.chicago_taxi_trips.taxi_trips`\n",
    "    group by 1\n",
    "    order by 1 DESC\n",
    "    \"\"\"\n",
    "print (query)"
   ]
  },
  {
   "cell_type": "markdown",
   "metadata": {},
   "source": [
    "---"
   ]
  },
  {
   "cell_type": "markdown",
   "metadata": {},
   "source": [
    "### 4) Dive slightly deeper\n",
    "\n",
    "You'd like to take a closer look at rides from 2017.  Copy the query you used above in `rides_per_year_query` into the cell below for `rides_per_month_query`.  Then modify it in two ways:\n",
    "1. Use a **WHERE** clause to limit the query to data from 2017.\n",
    "2. Modify the query to extract the month rather than the year."
   ]
  },
  {
   "cell_type": "code",
   "execution_count": 4,
   "metadata": {},
   "outputs": [
    {
     "name": "stdout",
     "output_type": "stream",
     "text": [
      "\n",
      "    SELECT EXTRACT(MONTH FROM trip_start_timestamp) as month, COUNT(1) as num_trips\n",
      "    from `bigquery-public-data.chicago_taxi_trips.taxi_trips`\n",
      "    wher EXTRACT(YEAR FROM trip_start_timestamp) = 2017\n",
      "    group by month\n",
      "    order by month DESC\n",
      "    \n"
     ]
    }
   ],
   "source": [
    "query = \"\"\"\n",
    "    SELECT EXTRACT(MONTH FROM trip_start_timestamp) as month, COUNT(1) as num_trips\n",
    "    from `bigquery-public-data.chicago_taxi_trips.taxi_trips`\n",
    "    wher EXTRACT(YEAR FROM trip_start_timestamp) = 2017\n",
    "    group by month\n",
    "    order by month DESC\n",
    "    \"\"\"\n",
    "print (query)"
   ]
  },
  {
   "cell_type": "code",
   "execution_count": null,
   "metadata": {},
   "outputs": [],
   "source": []
  }
 ],
 "metadata": {
  "kernelspec": {
   "display_name": "Python 3",
   "language": "python",
   "name": "python3"
  },
  "language_info": {
   "codemirror_mode": {
    "name": "ipython",
    "version": 3
   },
   "file_extension": ".py",
   "mimetype": "text/x-python",
   "name": "python",
   "nbconvert_exporter": "python",
   "pygments_lexer": "ipython3",
   "version": "3.7.3"
  }
 },
 "nbformat": 4,
 "nbformat_minor": 4
}
