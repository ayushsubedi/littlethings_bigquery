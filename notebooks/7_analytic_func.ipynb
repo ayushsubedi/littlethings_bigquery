{
 "cells": [
  {
   "cell_type": "code",
   "execution_count": 1,
   "metadata": {},
   "outputs": [],
   "source": [
    "import pandas as pd"
   ]
  },
  {
   "cell_type": "markdown",
   "metadata": {},
   "source": [
    "#### Dataset: chicago_taxi_trips\n",
    "#### Table: taxi_trips"
   ]
  },
  {
   "cell_type": "markdown",
   "metadata": {},
   "source": [
    "### 1) How can you predict the demand for taxis?\n",
    "\n",
    "Say you work for a taxi company, and you're interested in predicting the demand for taxis.  Towards this goal, you'd like to create a plot that shows a rolling average of the daily number of taxi trips.  Amend the (partial) query below to return a DataFrame with two columns:\n",
    "- `trip_date` - contains one entry for each date from January 1, 2016, to December 31, 2017.\n",
    "- `avg_num_trips` - shows the average number of daily trips, calculated over a window including the value for the current date, along with the values for the preceding 15 days and the following 15 days, as long as the days fit within the two-year time frame.  For instance, when calculating the value in this column for January 5, 2016, the window will include the number of trips for the preceding 4 days, the current date, and the following 15 days.\n",
    "\n",
    "This query is partially completed for you, and you need only write the part that calculates the `avg_num_trips` column.  Note that this query uses a common table expression (CTE); if you need to review how to use CTEs, you're encouraged to check out [this tutorial](https://www.kaggle.com/dansbecker/as-with) in the [Intro to SQL](https://www.kaggle.com/learn/intro-to-sql) micro-course."
   ]
  },
  {
   "cell_type": "code",
   "execution_count": 1,
   "metadata": {},
   "outputs": [
    {
     "name": "stdout",
     "output_type": "stream",
     "text": [
      "\n",
      "          WITH trips_by_day AS\n",
      "          (\n",
      "          SELECT DATE(trip_start_timestamp) AS trip_date,\n",
      "              COUNT(*) as num_trips\n",
      "          FROM `bigquery-public-data.chicago_taxi_trips.taxi_trips`\n",
      "          WHERE trip_start_timestamp >= '2016-01-01' AND trip_start_timestamp < '2018-01-01'\n",
      "          GROUP BY trip_date\n",
      "          ORDER BY trip_date\n",
      "          )\n",
      "          SELECT trip_date,\n",
      "              AVG(num_trips) \n",
      "              OVER (\n",
      "                   ORDER BY trip_date\n",
      "                   ROWS BETWEEN 15 PRECEDING AND 15 FOLLOWING\n",
      "                   ) AS avg_num_trips\n",
      "          FROM trips_by_day\n",
      "        \n"
     ]
    }
   ],
   "source": [
    "query = \"\"\"\n",
    "          WITH trips_by_day AS\n",
    "          (\n",
    "          SELECT DATE(trip_start_timestamp) AS trip_date,\n",
    "              COUNT(*) as num_trips\n",
    "          FROM `bigquery-public-data.chicago_taxi_trips.taxi_trips`\n",
    "          WHERE trip_start_timestamp >= '2016-01-01' AND trip_start_timestamp < '2018-01-01'\n",
    "          GROUP BY trip_date\n",
    "          ORDER BY trip_date\n",
    "          )\n",
    "          SELECT trip_date,\n",
    "              AVG(num_trips) \n",
    "              OVER (\n",
    "                   ORDER BY trip_date\n",
    "                   ROWS BETWEEN 15 PRECEDING AND 15 FOLLOWING\n",
    "                   ) AS avg_num_trips\n",
    "          FROM trips_by_day\n",
    "        \"\"\"\n",
    "print (query)"
   ]
  },
  {
   "cell_type": "markdown",
   "metadata": {},
   "source": [
    "### 2) Can you separate and order trips by community area?\n",
    "\n",
    "The query below returns a DataFrame with three columns from the table: `pickup_community_area`, `trip_start_timestamp`, and `trip_end_timestamp`.  \n",
    "\n",
    "Amend the query to return an additional column called `trip_number` which shows the order in which the trips were taken from their respective community areas.  So, the first trip of the day originating from community area 1 should receive a value of 1; the second trip of the day from the same area should receive a value of 2.  Likewise, the first trip of the day from community area 2 should receive a value of 1, and so on.\n",
    "\n",
    "Note that there are many numbering functions that can be used to solve this problem (depending on how you want to deal with trips that started at the same time from the same community area); to answer this question, please use the **RANK()** function."
   ]
  },
  {
   "cell_type": "code",
   "execution_count": 2,
   "metadata": {},
   "outputs": [
    {
     "name": "stdout",
     "output_type": "stream",
     "text": [
      "\n",
      "        SELECT pickup_community_area,\n",
      "            trip_start_timestamp,\n",
      "            trip_end_timestamp,\n",
      "            RANK()\n",
      "                OVER (\n",
      "                      PARTITION BY pickup_community_area\n",
      "                      ORDER BY trip_start_timestamp\n",
      "                     ) AS trip_number\n",
      "        FROM `bigquery-public-data.chicago_taxi_trips.taxi_trips`\n",
      "        WHERE DATE(trip_start_timestamp) = '2017-05-01'\n",
      "        \n"
     ]
    }
   ],
   "source": [
    "query = \"\"\"\n",
    "        SELECT pickup_community_area,\n",
    "            trip_start_timestamp,\n",
    "            trip_end_timestamp,\n",
    "            RANK()\n",
    "                OVER (\n",
    "                      PARTITION BY pickup_community_area\n",
    "                      ORDER BY trip_start_timestamp\n",
    "                     ) AS trip_number\n",
    "        FROM `bigquery-public-data.chicago_taxi_trips.taxi_trips`\n",
    "        WHERE DATE(trip_start_timestamp) = '2017-05-01'\n",
    "        \"\"\"\n",
    "print (query)"
   ]
  },
  {
   "cell_type": "markdown",
   "metadata": {},
   "source": [
    "### 3) How much time elapses between trips?\n",
    "\n",
    "The (partial) query in the code cell below shows, for each trip in the selected time frame, the corresponding `taxi_id`, `trip_start_timestamp`, and `trip_end_timestamp`. \n",
    "\n",
    "Your task in this exercise is to edit the query to include an additional `prev_break` column that shows the length of the break (in minutes) that the driver had before each trip started (this corresponds to the time between `trip_start_timestamp` of the current trip and `trip_end_timestamp` of the previous trip).  Partition the calculation by `taxi_id`, and order the results within each partition by `trip_start_timestamp`.\n",
    "\n",
    "Some sample results are shown below, where all rows correspond to the same driver (or `taxi_id`).  Take the time now to make sure that the values in the `prev_break` column make sense to you!\n",
    "\n",
    "![first_commands](https://i.imgur.com/qjvQzg8.png)\n",
    "\n",
    "Note that the first trip of the day for each driver should have a value of **NaN** (not a number) in the `prev_break` column."
   ]
  },
  {
   "cell_type": "code",
   "execution_count": 4,
   "metadata": {},
   "outputs": [
    {
     "name": "stdout",
     "output_type": "stream",
     "text": [
      "\n",
      "       SELECT taxi_id,\n",
      "           trip_start_timestamp,\n",
      "           trip_end_timestamp,\n",
      "           TIMESTAMP_DIFF(\n",
      "               trip_start_timestamp, \n",
      "               LAG(trip_end_timestamp, 1) OVER (PARTITION BY taxi_id ORDER BY trip_start_timestamp), \n",
      "               MINUTE) as prev_break\n",
      "       FROM `bigquery-public-data.chicago_taxi_trips.taxi_trips`\n",
      "       WHERE DATE(trip_start_timestamp) = '2017-05-01' \n",
      "        \n"
     ]
    }
   ],
   "source": [
    "query = \"\"\"\n",
    "       SELECT taxi_id,\n",
    "           trip_start_timestamp,\n",
    "           trip_end_timestamp,\n",
    "           TIMESTAMP_DIFF(\n",
    "               trip_start_timestamp, \n",
    "               LAG(trip_end_timestamp, 1) OVER (PARTITION BY taxi_id ORDER BY trip_start_timestamp), \n",
    "               MINUTE) as prev_break\n",
    "       FROM `bigquery-public-data.chicago_taxi_trips.taxi_trips`\n",
    "       WHERE DATE(trip_start_timestamp) = '2017-05-01' \n",
    "        \"\"\"\n",
    "\n",
    "print (query)"
   ]
  },
  {
   "cell_type": "markdown",
   "metadata": {},
   "source": [
    "### Standard SQL analytic functions"
   ]
  },
  {
   "cell_type": "markdown",
   "metadata": {},
   "source": [
    "```\n",
    "analytic_function_name ( [ argument_list ] ) OVER over_clause\n",
    "\n",
    "over_clause:\n",
    "  { named_window | ( [ window_specification ] ) }\n",
    "\n",
    "window_specification:\n",
    "  [ named_window ]\n",
    "  [ PARTITION BY partition_expression [, ...] ]\n",
    "  [ ORDER BY expression [ { ASC | DESC }  ] [, ...] ]\n",
    "  [ window_frame_clause ]\n",
    "\n",
    "window_frame_clause:\n",
    "  { rows_range } { frame_start | frame_between }\n",
    "\n",
    "rows_range:\n",
    "  { ROWS | RANGE }\n",
    "```"
   ]
  },
  {
   "cell_type": "code",
   "execution_count": null,
   "metadata": {},
   "outputs": [],
   "source": []
  }
 ],
 "metadata": {
  "kernelspec": {
   "display_name": "Python 3",
   "language": "python",
   "name": "python3"
  },
  "language_info": {
   "codemirror_mode": {
    "name": "ipython",
    "version": 3
   },
   "file_extension": ".py",
   "mimetype": "text/x-python",
   "name": "python",
   "nbconvert_exporter": "python",
   "pygments_lexer": "ipython3",
   "version": "3.7.3"
  }
 },
 "nbformat": 4,
 "nbformat_minor": 4
}
