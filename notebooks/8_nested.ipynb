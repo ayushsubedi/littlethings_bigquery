{
 "cells": [
  {
   "cell_type": "code",
   "execution_count": 1,
   "metadata": {},
   "outputs": [],
   "source": [
    "import pandas as pd"
   ]
  },
  {
   "cell_type": "markdown",
   "metadata": {},
   "source": [
    "#### Dataset: github_repos\n",
    "#### Table: sample_commits"
   ]
  },
  {
   "cell_type": "markdown",
   "metadata": {},
   "source": [
    "Write a query to find the individuals with the most commits in this table in 2016.  Your query should return a table with two columns:\n",
    "- `committer_name` - contains the name of each individual with a commit (from 2016) in the table\n",
    "- `num_commits` - shows the number of commits the individual has in the table (from 2016)\n",
    "\n",
    "Sort the table, so that people with more commits appear first.\n",
    "\n",
    "**NOTE**: You can find the name of each committer and the date of the commit under the \"committer\" column, in the \"name\" and \"date\" child fields, respectively."
   ]
  },
  {
   "cell_type": "code",
   "execution_count": 2,
   "metadata": {},
   "outputs": [
    {
     "name": "stdout",
     "output_type": "stream",
     "text": [
      "\n",
      "        SELECT committer.name AS committer_name, COUNT(*) AS num_commits\n",
      "        FROM `bigquery-public-data.github_repos.sample_commits`\n",
      "        WHERE committer.date >= '2016-01-01' AND committer.date < '2017-01-01'\n",
      "        GROUP BY committer_name\n",
      "        ORDER BY num_commits DESC\n",
      "        \n"
     ]
    }
   ],
   "source": [
    "query = \"\"\"\n",
    "        SELECT committer.name AS committer_name, COUNT(*) AS num_commits\n",
    "        FROM `bigquery-public-data.github_repos.sample_commits`\n",
    "        WHERE committer.date >= '2016-01-01' AND committer.date < '2017-01-01'\n",
    "        GROUP BY committer_name\n",
    "        ORDER BY num_commits DESC\n",
    "        \"\"\"\n",
    "print (query)"
   ]
  },
  {
   "cell_type": "markdown",
   "metadata": {},
   "source": [
    "### 3) What's the most popular programming language?\n",
    "\n",
    "Write a query to leverage the information in the `languages` table to determine which programming languages appear in the most repositories.  The table returned by your query should have two columns:\n",
    "- `language_name` - the name of the programming language\n",
    "- `num_repos` - the number of repositories in the `languages` table that use the programming language\n",
    "\n",
    "Sort the table so that languages that appear in more repos are shown first."
   ]
  },
  {
   "cell_type": "code",
   "execution_count": 3,
   "metadata": {},
   "outputs": [
    {
     "name": "stdout",
     "output_type": "stream",
     "text": [
      "\n",
      "         SELECT l.name as language_name, COUNT(*) as num_repos\n",
      "         FROM `bigquery-public-data.github_repos.languages`,\n",
      "             UNNEST(language) AS l\n",
      "         GROUP BY language_name\n",
      "         ORDER BY num_repos DESC\n",
      "        \n"
     ]
    }
   ],
   "source": [
    "query = \"\"\"\n",
    "         SELECT l.name as language_name, COUNT(*) as num_repos\n",
    "         FROM `bigquery-public-data.github_repos.languages`,\n",
    "             UNNEST(language) AS l\n",
    "         GROUP BY language_name\n",
    "         ORDER BY num_repos DESC\n",
    "        \"\"\"\n",
    "print (query)"
   ]
  },
  {
   "cell_type": "markdown",
   "metadata": {},
   "source": [
    "### 4) Which languages are used in the repository with the most languages?\n",
    "\n",
    "For this question, you'll restrict your attention to the repository with name `'polyrabbit/polyglot'`.\n",
    "\n",
    "Write a query that returns a table with one row for each language in this repository.  The table should have two columns:\n",
    "- `name` - the name of the programming language\n",
    "- `bytes` - the total number of bytes of that programming language\n",
    "\n",
    "Sort the table by the `bytes` column so that programming languages that take up more space in the repo appear first."
   ]
  },
  {
   "cell_type": "code",
   "execution_count": 4,
   "metadata": {},
   "outputs": [
    {
     "name": "stdout",
     "output_type": "stream",
     "text": [
      "\n",
      "          SELECT l.name, l.bytes\n",
      "          FROM `bigquery-public-data.github_repos.languages`,\n",
      "              UNNEST(language) as l\n",
      "          WHERE repo_name = 'polyrabbit/polyglot'\n",
      "          ORDER BY l.bytes DESC\n",
      "        \n"
     ]
    }
   ],
   "source": [
    "query = \"\"\"\n",
    "          SELECT l.name, l.bytes\n",
    "          FROM `bigquery-public-data.github_repos.languages`,\n",
    "              UNNEST(language) as l\n",
    "          WHERE repo_name = 'polyrabbit/polyglot'\n",
    "          ORDER BY l.bytes DESC\n",
    "        \"\"\"\n",
    "\n",
    "print (query)"
   ]
  }
 ],
 "metadata": {
  "kernelspec": {
   "display_name": "Python 3",
   "language": "python",
   "name": "python3"
  },
  "language_info": {
   "codemirror_mode": {
    "name": "ipython",
    "version": 3
   },
   "file_extension": ".py",
   "mimetype": "text/x-python",
   "name": "python",
   "nbconvert_exporter": "python",
   "pygments_lexer": "ipython3",
   "version": "3.7.3"
  }
 },
 "nbformat": 4,
 "nbformat_minor": 4
}
